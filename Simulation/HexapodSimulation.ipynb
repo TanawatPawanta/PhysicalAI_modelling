{
 "cells": [
  {
   "cell_type": "code",
   "execution_count": null,
   "id": "b0248c35",
   "metadata": {},
   "outputs": [],
   "source": [
    "import sys\n",
    "PATH_TO_PROJECT = \"/home/tanawatp/Documents/Hexapod/PhysicalAI_modelling\"\n",
    "sys.path.append(PATH_TO_PROJECT)\n",
    "from pydrake.common import temp_directory\n",
    "from pydrake.geometry import SceneGraphConfig, StartMeshcat\n",
    "from pydrake.math import RigidTransform, RollPitchYaw\n",
    "from pydrake.multibody.math import SpatialForce\n",
    "from pydrake.multibody.parsing import Parser\n",
    "from pydrake.multibody.plant import AddMultibodyPlantSceneGraph\n",
    "from pydrake.multibody.tree import MultibodyForces\n",
    "from pydrake.systems.analysis import Simulator\n",
    "from pydrake.systems.framework import DiagramBuilder, LeafSystem, BasicVector\n",
    "from pydrake.visualization import AddDefaultVisualization, ModelVisualizer\n",
    "from pydrake.systems.controllers import PidController\n",
    "from pydrake.multibody.inverse_kinematics import InverseKinematics\n",
    "from pydrake.solvers import Solve\n",
    "from UtilsFunction.UtilsFunc import*\n",
    "from UtilsFunction.KinematicsFunc import*\n",
    "from UtilsFunction.HexapodFunc import*\n",
    "import numpy as np"
   ]
  },
  {
   "cell_type": "code",
   "execution_count": 2,
   "id": "bb42b065",
   "metadata": {},
   "outputs": [
    {
     "name": "stderr",
     "output_type": "stream",
     "text": [
      "INFO:drake:Meshcat listening for connections at http://localhost:7001\n"
     ]
    },
    {
     "name": "stdout",
     "output_type": "stream",
     "text": [
      "tanawatp@tanawatp-ROG-Strix.local:7001\n"
     ]
    }
   ],
   "source": [
    "meshcat = StartMeshcat()\n",
    "port = str(meshcat.web_url())[-4:]\n",
    "print(f\"tanawatp@tanawatp-ROG-Strix.local:{port}\")"
   ]
  },
  {
   "cell_type": "code",
   "execution_count": null,
   "id": "48e15e1c",
   "metadata": {},
   "outputs": [
    {
     "ename": "RuntimeError",
     "evalue": "/home/tanawatp/Documents/Hexapod/PhysicalAI_modelling/Models/Volta_rev4.urdf:0: error: Failed to parse XML file: XML_ERROR_FILE_NOT_FOUND",
     "output_type": "error",
     "traceback": [
      "\u001b[0;31m---------------------------------------------------------------------------\u001b[0m",
      "\u001b[0;31mRuntimeError\u001b[0m                              Traceback (most recent call last)",
      "Cell \u001b[0;32mIn[3], line 14\u001b[0m\n\u001b[1;32m     12\u001b[0m gravity \u001b[38;5;241m=\u001b[39m [\u001b[38;5;241m0\u001b[39m, \u001b[38;5;241m0\u001b[39m, \u001b[38;5;241m-\u001b[39m\u001b[38;5;241m9.81\u001b[39m\u001b[38;5;241m*\u001b[39mgravity_enable]\n\u001b[1;32m     13\u001b[0m sim_time \u001b[38;5;241m=\u001b[39m \u001b[38;5;241m0.5\u001b[39m \u001b[38;5;66;03m# [second] simulation time\u001b[39;00m\n\u001b[0;32m---> 14\u001b[0m plant_temp,dump \u001b[38;5;241m=\u001b[39m \u001b[43mDefinePlant\u001b[49m\u001b[43m(\u001b[49m\u001b[43mmodel_name\u001b[49m\u001b[38;5;241;43m=\u001b[39;49m\u001b[38;5;124;43m\"\u001b[39;49m\u001b[38;5;124;43mVolta_rev4\u001b[39;49m\u001b[38;5;124;43m\"\u001b[39;49m\u001b[43m,\u001b[49m\n\u001b[1;32m     15\u001b[0m \u001b[43m                            \u001b[49m\u001b[43mis_fixed\u001b[49m\u001b[38;5;241;43m=\u001b[39;49m\u001b[38;5;28;43;01mTrue\u001b[39;49;00m\u001b[43m,\u001b[49m\n\u001b[1;32m     16\u001b[0m \u001b[43m                            \u001b[49m\u001b[43mfixed_frame\u001b[49m\u001b[38;5;241;43m=\u001b[39;49m\u001b[38;5;124;43m\"\u001b[39;49m\u001b[38;5;124;43mtorso\u001b[39;49m\u001b[38;5;124;43m\"\u001b[39;49m\u001b[43m)\u001b[49m\n\u001b[1;32m     18\u001b[0m desire_torso_height \u001b[38;5;241m=\u001b[39m \u001b[38;5;241m0.47\u001b[39m \u001b[38;5;66;03m# [m] desired torso height\u001b[39;00m\n\u001b[1;32m     19\u001b[0m is_success,left_q \u001b[38;5;241m=\u001b[39m SolveInverseKinematics(model_series\u001b[38;5;241m=\u001b[39m\u001b[38;5;124m\"\u001b[39m\u001b[38;5;124mVolta\u001b[39m\u001b[38;5;124m\"\u001b[39m,\n\u001b[1;32m     20\u001b[0m                             plant\u001b[38;5;241m=\u001b[39mplant_temp,\n\u001b[1;32m     21\u001b[0m                             is_left\u001b[38;5;241m=\u001b[39m\u001b[38;5;28;01mTrue\u001b[39;00m,\n\u001b[1;32m     22\u001b[0m                             base_P_e\u001b[38;5;241m=\u001b[39mnp\u001b[38;5;241m.\u001b[39marray([\u001b[38;5;241m0.0\u001b[39m,\u001b[38;5;241m0.125\u001b[39m,\u001b[38;5;241m-\u001b[39m\u001b[38;5;241m1.0\u001b[39m\u001b[38;5;241m*\u001b[39mdesire_torso_height]),\n\u001b[1;32m     23\u001b[0m                             base_R_e\u001b[38;5;241m=\u001b[39mRollPitchYaw(\u001b[38;5;241m0\u001b[39m, \u001b[38;5;241m0\u001b[39m, \u001b[38;5;241m0\u001b[39m)\u001b[38;5;241m.\u001b[39mToRotationMatrix())\n",
      "File \u001b[0;32m~/Documents/Hexapod/PhysicalAI_modelling/UtilsFunction/UtilsFunc.py:249\u001b[0m, in \u001b[0;36mDefinePlant\u001b[0;34m(model_name, is_fixed, fixed_frame)\u001b[0m\n\u001b[1;32m    247\u001b[0m \u001b[38;5;28mdir\u001b[39m \u001b[38;5;241m=\u001b[39m \u001b[38;5;124m\"\u001b[39m\u001b[38;5;124m/home/tanawatp/Documents/Hexapod/PhysicalAI_modelling/Models\u001b[39m\u001b[38;5;124m\"\u001b[39m \u001b[38;5;66;03m# ROG path\u001b[39;00m\n\u001b[1;32m    248\u001b[0m robot_urdf_path \u001b[38;5;241m=\u001b[39m os\u001b[38;5;241m.\u001b[39mpath\u001b[38;5;241m.\u001b[39mjoin(\u001b[38;5;28mdir\u001b[39m,urdf)\n\u001b[0;32m--> 249\u001b[0m robot_instant_index \u001b[38;5;241m=\u001b[39m \u001b[43mparser\u001b[49m\u001b[38;5;241;43m.\u001b[39;49m\u001b[43mAddModels\u001b[49m\u001b[43m(\u001b[49m\u001b[43mrobot_urdf_path\u001b[49m\u001b[43m)\u001b[49m\n\u001b[1;32m    250\u001b[0m \u001b[38;5;28;01mif\u001b[39;00m is_fixed:\n\u001b[1;32m    251\u001b[0m     robot_fixed_frame \u001b[38;5;241m=\u001b[39m plant\u001b[38;5;241m.\u001b[39mGetFrameByName(fixed_frame)\n",
      "\u001b[0;31mRuntimeError\u001b[0m: /home/tanawatp/Documents/Hexapod/PhysicalAI_modelling/Models/Volta_rev4.urdf:0: error: Failed to parse XML file: XML_ERROR_FILE_NOT_FOUND"
     ]
    }
   ],
   "source": [
    "# Controller configulation\n",
    "gravity_compensation_enable = True\n",
    "controller_enable = False\n",
    "controller = \"mit\"  # mit, cascade, ID\n",
    "sim_time_step = 0.0001    # [second]\n",
    "# Simulation configulation\n",
    "fixed_base = False\n",
    "fixed_base_offset = 0.5 # [m] offset for fixed base\n",
    "gravity_enable = True\n",
    "realtime = False\n",
    "save_graph = False\n",
    "gravity = [0, 0, -9.81*gravity_enable]\n",
    "sim_time = 0.5 # [second] simulation time\n",
    "plant_temp,robot_ind = DefinePlant(model_name=\"Hexapod_mockup\",\n",
    "                    is_fixed=True,\n",
    "                    fixed_frame=\"BaseLink\")\n",
    "q_init = \n",
    "\n",
    "init_pos = [0.0, 0.0,desire_torso_height+(fixed_base_offset*fixed_base)]\n",
    "init_orien = np.asarray([0, 0, 0]) # body fram orientation [degree] rotate xyz fixed axis\n",
    "left_qd = np.zeros(6)\n",
    "right_qd = np.zeros(6)\n",
    "robot_urdf = \"Hexapod_mockup.urdf\""
   ]
  },
  {
   "cell_type": "code",
   "execution_count": null,
   "id": "ab3de8fb",
   "metadata": {},
   "outputs": [],
   "source": [
    "meshcat.Delete()\n",
    "meshcat.DeleteAddedControls()\n",
    "\n",
    "dir = \"/home/tanawatp/Documents/Hexapod/PhysicalAI_modelling/Models\"\n",
    "\n",
    "robot_urdf_path = os.path.join(dir,robot_urdf)\n",
    "floor_sdf = \"floor_top.sdf\"\n",
    "floor_sdf_path = os.path.join(dir,floor_sdf)\n",
    "\n",
    "builder = DiagramBuilder()\n",
    "plant, scene_graph = AddMultibodyPlantSceneGraph(\n",
    "    builder, time_step=sim_time_step)\n",
    "parser = Parser(plant)\n",
    "\n",
    "# Set the gravity feild\n",
    "plant.mutable_gravity_field().set_gravity_vector(gravity)\n",
    "\n",
    "# Add models to multibody plant\n",
    "robot_instant_index = parser.AddModels(robot_urdf_path)\n",
    "floor = parser.AddModels(floor_sdf_path)\n",
    "\n",
    "# Weld the floor to the world so that it's fixed during the simulation.\n",
    "floor_frame = plant.GetFrameByName(\"floor_top_center\")\n",
    "temp0 = RigidTransform(\n",
    "    RollPitchYaw([0,0,0]), p=[0.0,0,0])\n",
    "plant.WeldFrames(plant.world_frame(), floor_frame,temp0)\n",
    "\n",
    "X_floorRobot = RigidTransform(\n",
    "    RollPitchYaw(init_orien * np.pi / 180), p=init_pos)\n",
    "if fixed_base:\n",
    "    robot_body_frame = plant.GetFrameByName(\"torso\")\n",
    "    plant.WeldFrames(plant.world_frame(),robot_body_frame, X_floorRobot)\n",
    "    print(\"Simulation in Fixed based mode\")\n",
    "else:\n",
    "    print(\"Simulation in Folating based mode\")\n",
    "\n",
    "plant.Finalize()\n",
    "\n",
    "# Set initial pose of robot\n",
    "plant_context = plant.CreateDefaultContext()\n",
    "robot = plant.GetBodyByName(\"BaseLink\")\n",
    "X_Worldfloor = floor_frame.CalcPoseInWorld(plant_context) \n",
    "\n",
    "X_WorldRobot = X_Worldfloor.multiply(X_floorRobot)\n",
    "plant.SetDefaultFreeBodyPose(robot, X_WorldRobot)\n"
   ]
  }
 ],
 "metadata": {
  "kernelspec": {
   "display_name": "drake_env",
   "language": "python",
   "name": "python3"
  },
  "language_info": {
   "codemirror_mode": {
    "name": "ipython",
    "version": 3
   },
   "file_extension": ".py",
   "mimetype": "text/x-python",
   "name": "python",
   "nbconvert_exporter": "python",
   "pygments_lexer": "ipython3",
   "version": "3.10.12"
  }
 },
 "nbformat": 4,
 "nbformat_minor": 5
}
