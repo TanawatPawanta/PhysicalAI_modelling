{
 "cells": [
  {
   "cell_type": "code",
   "execution_count": 1,
   "id": "7b5d7c10",
   "metadata": {},
   "outputs": [],
   "source": [
    "import sys\n",
    "PATH_TO_PROJECT = \"/home/tanawatp/Documents/Hexapod/PhysicalAI_modelling\"\n",
    "sys.path.append(PATH_TO_PROJECT)\n",
    "from UtilsFunction.UtilsFunc import*\n",
    "from UtilsFunction.KinematicsFunc import*\n",
    "from pydrake.geometry import StartMeshcat\n",
    "from pydrake.visualization import ModelVisualizer\n",
    "from pydrake.math import RigidTransform, RotationMatrix"
   ]
  },
  {
   "cell_type": "code",
   "execution_count": 2,
   "id": "6637eb5b",
   "metadata": {},
   "outputs": [
    {
     "name": "stderr",
     "output_type": "stream",
     "text": [
      "INFO:drake:Meshcat listening for connections at http://localhost:7000\n"
     ]
    }
   ],
   "source": [
    "plant,robot_ind = DefinePlant(model_name=\"Hexapod_mockup\",\n",
    "                    is_fixed=True,\n",
    "                    fixed_frame=\"BaseLink\")\n",
    "# Start Meshcat\n",
    "meshcat = StartMeshcat()\n",
    "meshcat.SetProperty(\"/drake/visualizer\", \"visible\", False)"
   ]
  },
  {
   "cell_type": "code",
   "execution_count": 3,
   "id": "fc561b5a",
   "metadata": {},
   "outputs": [
    {
     "name": "stdout",
     "output_type": "stream",
     "text": [
      "[-6.78383573e-05  3.48999990e-01 -1.66920000e-01]\n"
     ]
    }
   ],
   "source": [
    "P = CalcfForwaredKinematics(plant=plant,\n",
    "                            joint_angles=np.zeros(18),\n",
    "                            base_frame_name=\"BaseLink\",\n",
    "                            end_effector_frame_name=\"middle_left_Endeffector\")\n",
    "print(P)"
   ]
  },
  {
   "cell_type": "code",
   "execution_count": 4,
   "id": "3bce1b91",
   "metadata": {},
   "outputs": [
    {
     "name": "stdout",
     "output_type": "stream",
     "text": [
      "Robot frames name\n",
      "FrameIndex(1) -> BaseLink\n",
      "FrameIndex(2) -> base_x_axis\n",
      "FrameIndex(3) -> base_z_axis\n",
      "FrameIndex(4) -> front_left_HeelLink\n",
      "FrameIndex(5) -> front_left_HipLink\n",
      "FrameIndex(6) -> front_left_KneeLink\n",
      "FrameIndex(7) -> front_left_Endeffector\n",
      "FrameIndex(8) -> middle_left_HeelLink\n",
      "FrameIndex(9) -> middle_left_HipLink\n",
      "FrameIndex(10) -> middle_left_KneeLink\n",
      "FrameIndex(11) -> middle_left_Endeffector\n",
      "FrameIndex(12) -> rear_left_HeelLink\n",
      "FrameIndex(13) -> rear_left_HipLink\n",
      "FrameIndex(14) -> rear_left_KneeLink\n",
      "FrameIndex(15) -> rear_left_Endeffector\n",
      "FrameIndex(16) -> front_right_HeelLink\n",
      "FrameIndex(17) -> front_right_HipLink\n",
      "FrameIndex(18) -> front_right_KneeLink\n",
      "FrameIndex(19) -> front_right_Endeffector\n",
      "FrameIndex(20) -> middle_right_HeelLink\n",
      "FrameIndex(21) -> middle_right_HipLink\n",
      "FrameIndex(22) -> middle_right_KneeLink\n",
      "FrameIndex(23) -> middle_right_Endeffector\n",
      "FrameIndex(24) -> rear_right_HeelLink\n",
      "FrameIndex(25) -> rear_right_HipLink\n",
      "FrameIndex(26) -> rear_right_KneeLink\n",
      "FrameIndex(27) -> rear_right_Endeffector\n",
      "FrameIndex(28) -> base_x_axis_offset_parent\n",
      "FrameIndex(29) -> base_z_axis_offset_parent\n",
      "FrameIndex(30) -> front_left_HeelJoint_parent\n",
      "FrameIndex(31) -> front_left_HipJoint_parent\n",
      "FrameIndex(32) -> front_left_KneeJoint_parent\n",
      "FrameIndex(33) -> front_left_Endeffector_parent\n",
      "FrameIndex(34) -> middle_left_HeelJoint_parent\n",
      "FrameIndex(35) -> middle_left_HipJoint_parent\n",
      "FrameIndex(36) -> middle_left_KneeJoint_parent\n",
      "FrameIndex(37) -> middle_left_Endeffector_parent\n",
      "FrameIndex(38) -> rear_left_HeelJoint_parent\n",
      "FrameIndex(39) -> rear_left_HipJoint_parent\n",
      "FrameIndex(40) -> rear_left_KneeJoint_parent\n",
      "FrameIndex(41) -> rear_left_Endeffector_parent\n",
      "FrameIndex(42) -> front_right_HeelJoint_parent\n",
      "FrameIndex(43) -> front_right_HipJoint_parent\n",
      "FrameIndex(44) -> front_right_KneeJoint_parent\n",
      "FrameIndex(45) -> front_right_Endeffector_parent\n",
      "FrameIndex(46) -> middle_right_HeelJoint_parent\n",
      "FrameIndex(47) -> middle_right_HipJoint_parent\n",
      "FrameIndex(48) -> middle_right_KneeJoint_parent\n",
      "FrameIndex(49) -> middle_right_Endeffector_parent\n",
      "FrameIndex(50) -> rear_right_HeelJoint_parent\n",
      "FrameIndex(51) -> rear_right_HipJoint_parent\n",
      "FrameIndex(52) -> rear_right_KneeJoint_parent\n",
      "FrameIndex(53) -> rear_right_Endeffector_parent\n",
      "FrameIndex(54) -> front_left_HeelJoint_front_left_HeelJoint_parent_F\n",
      "FrameIndex(55) -> front_left_HeelJoint_front_left_HeelLink_M\n",
      "FrameIndex(56) -> middle_left_HeelJoint_middle_left_HeelJoint_parent_F\n",
      "FrameIndex(57) -> middle_left_HeelJoint_middle_left_HeelLink_M\n",
      "FrameIndex(58) -> rear_left_HeelJoint_rear_left_HeelJoint_parent_F\n",
      "FrameIndex(59) -> rear_left_HeelJoint_rear_left_HeelLink_M\n",
      "FrameIndex(60) -> front_right_HeelJoint_front_right_HeelJoint_parent_F\n",
      "FrameIndex(61) -> front_right_HeelJoint_front_right_HeelLink_M\n",
      "FrameIndex(62) -> middle_right_HeelJoint_middle_right_HeelJoint_parent_F\n",
      "FrameIndex(63) -> middle_right_HeelJoint_middle_right_HeelLink_M\n",
      "FrameIndex(64) -> rear_right_HeelJoint_rear_right_HeelJoint_parent_F\n",
      "FrameIndex(65) -> rear_right_HeelJoint_rear_right_HeelLink_M\n"
     ]
    }
   ],
   "source": [
    "ListFrameNames(plant=plant,model_instance_index=robot_ind)"
   ]
  },
  {
   "cell_type": "code",
   "execution_count": 5,
   "id": "c8e2c274",
   "metadata": {},
   "outputs": [
    {
     "name": "stdout",
     "output_type": "stream",
     "text": [
      "middle_left_Endeffector\n",
      "[ 0.    0.35 -0.1 ]\n",
      "front_left_Endeffector\n",
      "[ 0.30310889  0.175      -0.1       ]\n",
      "front_right_Endeffector\n",
      "[ 0.30310889 -0.175      -0.1       ]\n",
      "middle_right_Endeffector\n",
      "[ 4.2862638e-17 -3.5000000e-01 -1.0000000e-01]\n",
      "rear_right_Endeffector\n",
      "[-0.30310889 -0.175      -0.1       ]\n",
      "rear_left_Endeffector\n",
      "[-0.30310889  0.175      -0.1       ]\n",
      "[-0.00158546 -0.61015183  0.31768941 -0.0020468  -0.60865701  0.31556267\n",
      "  0.00158862 -0.61015187  0.31768942  0.00158862 -0.61015187  0.31768942\n",
      " -0.00147894 -0.60865698  0.31556261 -0.00158546 -0.61015183  0.31768941]\n"
     ]
    }
   ],
   "source": [
    "IK_solver = InverseKinematics(plant)\n",
    "end_effector_names = [\"middle_left_Endeffector\",\n",
    "                      \"front_left_Endeffector\",\n",
    "                      \"front_right_Endeffector\",\n",
    "                      \"middle_right_Endeffector\",\n",
    "                      \"rear_right_Endeffector\",\n",
    "                      \"rear_left_Endeffector\"]\n",
    "hip_offset_angle = [0, \n",
    "                    -np.pi/3.0, \n",
    "                    -2.0*np.pi/3.0, \n",
    "                    -np.pi, \n",
    "                    -4.0*np.pi/3.0, \n",
    "                    -5.0*np.pi/3.0]\n",
    "base_frame = plant.GetFrameByName(\"BaseLink\")\n",
    "desired_base_heigh = 0.1\n",
    "desired_leg_lenght = 0.35\n",
    "\n",
    "# Add position constraints\n",
    "for i in range(6):\n",
    "    end_effector_frame = plant.GetFrameByName(end_effector_names[i])\n",
    "    print(end_effector_names[i])\n",
    "    eff_P_base = RotationMatrix.MakeZRotation(hip_offset_angle[i]) @ np.array([0.0,desired_leg_lenght,-1.0*desired_base_heigh])\n",
    "    print(eff_P_base)\n",
    "    IK_solver.AddPositionConstraint(\n",
    "        frameB=end_effector_frame,\n",
    "        p_BQ=np.zeros(3),     # point in end-effector frame\n",
    "        frameA=base_frame,\n",
    "        p_AQ_lower=eff_P_base-0.001,\n",
    "        p_AQ_upper=eff_P_base+0.001\n",
    "    )\n",
    "q_variables = IK_solver.q()\n",
    "# for i in range(plant.num_positions()):\n",
    "# for i in [0,3,6,9,12,15]:\n",
    "#     IK_solver.prog().AddBoundingBoxConstraint(-2.0*np.pi/3.0, 2.0*np.pi/3.0, q_variables[i])\n",
    "initial_guess = np.ones(plant.num_positions())*0.1\n",
    "result = Solve(IK_solver.prog(),initial_guess)\n",
    "q = None\n",
    "if result.is_success():\n",
    "    q_solution = result.GetSolution(q_variables)\n",
    "    print(q_solution)\n",
    "    q = q_solution"
   ]
  },
  {
   "cell_type": "code",
   "execution_count": 6,
   "id": "aeb2a8d6",
   "metadata": {},
   "outputs": [
    {
     "name": "stderr",
     "output_type": "stream",
     "text": [
      "INFO:drake:Click 'Stop Running' or press Esc to quit\n"
     ]
    }
   ],
   "source": [
    "# Create ModelVisualizer and add robot\n",
    "visualizer = ModelVisualizer(meshcat=meshcat,\n",
    "                             visualize_frames=True,\n",
    "                             triad_length=0.05,\n",
    "                             triad_radius=0.001)\n",
    "urdf_name = \"Hexapod_mockup.urdf\"\n",
    "robot_urdf_path = f\"{PATH_TO_PROJECT}/Models/{urdf_name}\"\n",
    "robot = visualizer.parser().AddModels(robot_urdf_path)\n",
    "plant_viz = visualizer.parser().plant()\n",
    "robot_body_frame = plant_viz.GetFrameByName(\"BaseLink\")\n",
    "init_pos = [0.0,0.0,0.0] \n",
    "init_orien = np.asarray([0, 0, 0])\n",
    "X_floorRobot = RigidTransform(\n",
    "    RollPitchYaw(init_orien * np.pi / 180), p=[0.0,0.0,0.0])\n",
    "plant_viz.WeldFrames(plant_viz.world_frame(),robot_body_frame, X_floorRobot)\n",
    "visualizer.Finalize()\n",
    "# Create context\n",
    "context = plant_viz.CreateDefaultContext()\n",
    "if result.is_success():\n",
    "    visualizer.Run(position=q,loop_once=False)\n",
    "else:\n",
    "    visualizer.Run(loop_once=False)\n"
   ]
  }
 ],
 "metadata": {
  "kernelspec": {
   "display_name": "drake_env",
   "language": "python",
   "name": "python3"
  },
  "language_info": {
   "codemirror_mode": {
    "name": "ipython",
    "version": 3
   },
   "file_extension": ".py",
   "mimetype": "text/x-python",
   "name": "python",
   "nbconvert_exporter": "python",
   "pygments_lexer": "ipython3",
   "version": "3.10.12"
  }
 },
 "nbformat": 4,
 "nbformat_minor": 5
}
