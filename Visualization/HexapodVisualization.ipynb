{
 "cells": [
  {
   "cell_type": "code",
   "execution_count": 1,
   "id": "7b5d7c10",
   "metadata": {},
   "outputs": [],
   "source": [
    "import sys\n",
    "PATH_TO_PROJECT = \"/home/tanawatp/Documents/Hexapod/PhysicalAI_modelling\"\n",
    "sys.path.append(PATH_TO_PROJECT)\n",
    "from UtilsFunction.UtilsFunc import*\n",
    "from UtilsFunction.KinematicsFunc import*\n",
    "from pydrake.geometry import StartMeshcat\n",
    "from pydrake.visualization import ModelVisualizer\n",
    "from pydrake.math import RigidTransform, RotationMatrix"
   ]
  },
  {
   "cell_type": "code",
   "execution_count": null,
   "id": "6637eb5b",
   "metadata": {},
   "outputs": [
    {
     "name": "stderr",
     "output_type": "stream",
     "text": [
      "INFO:drake:Meshcat listening for connections at http://localhost:7000\n"
     ]
    },
    {
     "name": "stdout",
     "output_type": "stream",
     "text": [
      "Click on link above to open Meshcat visualization\n"
     ]
    }
   ],
   "source": [
    "plant,robot_ind = DefinePlant(model_name=\"Hexapod_mockup\",\n",
    "                    is_fixed=True,\n",
    "                    fixed_frame=\"BaseLink\")\n",
    "# Start Meshcat\n",
    "print(\"Click on link above to open Meshcat visualization.\")\n",
    "meshcat = StartMeshcat()\n",
    "meshcat.SetProperty(\"/drake/visualizer\", \"visible\", False)"
   ]
  },
  {
   "cell_type": "code",
   "execution_count": null,
   "id": "c8e2c274",
   "metadata": {},
   "outputs": [],
   "source": [
    "# Task space parameters\n",
    "step_length = 0.0 # m\n",
    "desired_base_height = 0.1 # m\n",
    "desired_leg_length = 0.45 # m\n"
   ]
  },
  {
   "cell_type": "markdown",
   "id": "14fd7a95",
   "metadata": {},
   "source": [
    "### Calc end effector position w.r.t. base frame"
   ]
  },
  {
   "cell_type": "code",
   "execution_count": null,
   "id": "ab9b5e1d",
   "metadata": {},
   "outputs": [],
   "source": [
    "# Add your code to find eff_P_base here\n"
   ]
  },
  {
   "cell_type": "markdown",
   "id": "b05f8e5c",
   "metadata": {},
   "source": [
    "### Solve inver kinematics"
   ]
  },
  {
   "cell_type": "code",
   "execution_count": null,
   "id": "89bc039b",
   "metadata": {},
   "outputs": [
    {
     "name": "stdout",
     "output_type": "stream",
     "text": [
      "[ 0.2006561  -0.53674354  0.21080336 -0.29092044 -0.16150708 -0.38253035\n",
      "  0.12013297  0.18552473 -0.95637244  0.12013297  0.18552473 -0.95637244\n",
      " -0.29032779 -0.16150708 -0.38253035  0.2006561  -0.53674354  0.21080336]\n"
     ]
    }
   ],
   "source": [
    "IK_solver = InverseKinematics(plant)\n",
    "end_effector_names = [\n",
    "                      \"front_left_Endeffector\",  \"front_right_Endeffector\",\n",
    "                      \"middle_left_Endeffector\", \"middle_right_Endeffector\",\n",
    "                      \"rear_left_Endeffector\",   \"rear_right_Endeffector\"]\n",
    "base_frame = plant.GetFrameByName(\"BaseLink\")\n",
    "# Add position constraints\n",
    "for i in range(6):\n",
    "    end_effector_frame = plant.GetFrameByName(end_effector_names[i])\n",
    "    eff_P_base = ... # Fill the value here with np.array\n",
    "    IK_solver.AddPositionConstraint(\n",
    "        frameB=end_effector_frame,\n",
    "        p_BQ=np.zeros(3),     # point in end-effector frame\n",
    "        frameA=base_frame,\n",
    "        p_AQ_lower=eff_P_base-0.001,\n",
    "        p_AQ_upper=eff_P_base+0.001\n",
    "    )\n",
    "q_variables = IK_solver.q()\n",
    "# Add joint limits\n",
    "# for i in range(plant.num_positions()):\n",
    "#     IK_solver.prog().AddBoundingBoxConstraint(-2.0*np.pi/3.0, 2.0*np.pi/3.0, q_variables[i])\n",
    "initial_guess = np.ones(plant.num_positions())*0.1\n",
    "result = Solve(IK_solver.prog(),initial_guess)\n",
    "q = None\n",
    "if result.is_success():\n",
    "    q_solution = result.GetSolution(q_variables)\n",
    "    print(q_solution)\n",
    "    q = q_solution"
   ]
  },
  {
   "cell_type": "code",
   "execution_count": 6,
   "id": "5ef07794",
   "metadata": {},
   "outputs": [
    {
     "name": "stdout",
     "output_type": "stream",
     "text": [
      "GetJointIndices:  [JointIndex(0), JointIndex(1), JointIndex(2), JointIndex(3), JointIndex(4), JointIndex(5), JointIndex(6), JointIndex(7), JointIndex(8), JointIndex(9), JointIndex(10), JointIndex(11), JointIndex(12), JointIndex(13), JointIndex(14), JointIndex(15), JointIndex(16), JointIndex(17), JointIndex(18), JointIndex(19), JointIndex(20), JointIndex(21), JointIndex(22), JointIndex(23), JointIndex(24), JointIndex(25), JointIndex(26)]\n",
      "Joint JointIndex(0): base_x_axis_offset\n",
      "Joint JointIndex(1): base_z_axis_offset\n",
      "Joint JointIndex(2): front_left_HeelJoint\n",
      "Joint JointIndex(3): front_left_HipJoint\n",
      "Joint JointIndex(4): front_left_KneeJoint\n",
      "Joint JointIndex(5): front_left_Endeffector\n",
      "Joint JointIndex(6): middle_left_HeelJoint\n",
      "Joint JointIndex(7): middle_left_HipJoint\n",
      "Joint JointIndex(8): middle_left_KneeJoint\n",
      "Joint JointIndex(9): middle_left_Endeffector\n",
      "Joint JointIndex(10): rear_left_HeelJoint\n",
      "Joint JointIndex(11): rear_left_HipJoint\n",
      "Joint JointIndex(12): rear_left_KneeJoint\n",
      "Joint JointIndex(13): rear_left_Endeffector\n",
      "Joint JointIndex(14): front_right_HeelJoint\n",
      "Joint JointIndex(15): front_right_HipJoint\n",
      "Joint JointIndex(16): front_right_KneeJoint\n",
      "Joint JointIndex(17): front_right_Endeffector\n",
      "Joint JointIndex(18): middle_right_HeelJoint\n",
      "Joint JointIndex(19): middle_right_HipJoint\n",
      "Joint JointIndex(20): middle_right_KneeJoint\n",
      "Joint JointIndex(21): middle_right_Endeffector\n",
      "Joint JointIndex(22): rear_right_HeelJoint\n",
      "Joint JointIndex(23): rear_right_HipJoint\n",
      "Joint JointIndex(24): rear_right_KneeJoint\n",
      "Joint JointIndex(25): rear_right_Endeffector\n",
      "Joint JointIndex(26): world_welds_to_BaseLink\n"
     ]
    }
   ],
   "source": [
    "ListJointsName(plant=plant,model_instance_index=robot_ind)"
   ]
  },
  {
   "cell_type": "markdown",
   "id": "704a6530",
   "metadata": {},
   "source": [
    "### IK solution check"
   ]
  },
  {
   "cell_type": "code",
   "execution_count": 7,
   "id": "37fc6a91",
   "metadata": {},
   "outputs": [
    {
     "name": "stdout",
     "output_type": "stream",
     "text": [
      "Desired middle_left_Endeffector positions:\n",
      " [0.1, 0.45, -0.1]\n",
      "middle_left_Endeffector positions from IK:\n",
      " [ 0.099  0.449 -0.099]\n"
     ]
    }
   ],
   "source": [
    "P = CalcfForwaredKinematics(plant=plant,\n",
    "                            joint_angles=q,\n",
    "                            base_frame_name=\"BaseLink\",\n",
    "                            end_effector_frame_name=\"middle_left_Endeffector\")\n",
    "print(\"Desired middle_left_Endeffector positions:\\n\", [step_lenght*0.5,desired_leg_lenght,-desired_base_heigh])\n",
    "print(\"middle_left_Endeffector positions from IK:\\n\",P)"
   ]
  },
  {
   "cell_type": "markdown",
   "id": "4c9cb4c7",
   "metadata": {},
   "source": [
    "### Visualization"
   ]
  },
  {
   "cell_type": "code",
   "execution_count": 8,
   "id": "aeb2a8d6",
   "metadata": {},
   "outputs": [
    {
     "name": "stderr",
     "output_type": "stream",
     "text": [
      "INFO:drake:Click 'Stop Running' or press Esc to quit\n"
     ]
    }
   ],
   "source": [
    "# Create ModelVisualizer \n",
    "visualizer = ModelVisualizer(meshcat=meshcat,\n",
    "                             visualize_frames=True,\n",
    "                             triad_length=0.05,\n",
    "                             triad_radius=0.001)\n",
    "urdf_name = \"Hexapod_mockup.urdf\"\n",
    "robot_urdf_path = f\"{PATH_TO_PROJECT}/Models/{urdf_name}\"\n",
    "robot = visualizer.parser().AddModels(robot_urdf_path)\n",
    "plant_viz = visualizer.parser().plant()\n",
    "robot_body_frame = plant_viz.GetFrameByName(\"BaseLink\")\n",
    "init_pos = [0.0,0.0,0.0] \n",
    "init_orien = np.asarray([0, 0, 0])\n",
    "X_floorRobot = RigidTransform(\n",
    "    RollPitchYaw(init_orien * np.pi / 180), p=[0.0,0.0,0.0])\n",
    "plant_viz.WeldFrames(plant_viz.world_frame(),robot_body_frame, X_floorRobot)\n",
    "visualizer.Finalize()\n",
    "# Create context\n",
    "context = plant_viz.CreateDefaultContext()\n",
    "if result.is_success():\n",
    "    visualizer.Run(position=q,loop_once=False)\n",
    "else:\n",
    "    visualizer.Run(loop_once=False)\n"
   ]
  }
 ],
 "metadata": {
  "kernelspec": {
   "display_name": "drake_env",
   "language": "python",
   "name": "python3"
  },
  "language_info": {
   "codemirror_mode": {
    "name": "ipython",
    "version": 3
   },
   "file_extension": ".py",
   "mimetype": "text/x-python",
   "name": "python",
   "nbconvert_exporter": "python",
   "pygments_lexer": "ipython3",
   "version": "3.10.12"
  }
 },
 "nbformat": 4,
 "nbformat_minor": 5
}
